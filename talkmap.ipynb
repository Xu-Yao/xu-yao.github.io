{
 "cells": [
  {
   "cell_type": "markdown",
   "metadata": {},
   "source": [
    "# Leaflet cluster map of talk locations\n",
    "\n",
    "Run this from the _talks/ directory, which contains .md files of all your talks. This scrapes the location YAML field from each .md file, geolocates it with geopy/Nominatim, and uses the getorg library to output data, HTML, and Javascript for a standalone cluster map."
   ]
  },
  {
   "cell_type": "code",
   "execution_count": 1,
   "metadata": {},
   "outputs": [
    {
     "name": "stdout",
     "output_type": "stream",
     "text": [
      "Requirement already up-to-date: getorg in /Users/redcynthia/anaconda3/lib/python3.6/site-packages\n",
      "Requirement already up-to-date: geopy in /Users/redcynthia/anaconda3/lib/python3.6/site-packages (from getorg)\n",
      "Requirement already up-to-date: pygithub in /Users/redcynthia/anaconda3/lib/python3.6/site-packages (from getorg)\n",
      "Requirement already up-to-date: retrying in /Users/redcynthia/anaconda3/lib/python3.6/site-packages (from getorg)\n",
      "Requirement already up-to-date: geographiclib<2,>=1.49 in /Users/redcynthia/anaconda3/lib/python3.6/site-packages (from geopy->getorg)\n",
      "Requirement already up-to-date: pyjwt in /Users/redcynthia/anaconda3/lib/python3.6/site-packages (from pygithub->getorg)\n",
      "Requirement already up-to-date: requests>=2.14.0 in /Users/redcynthia/anaconda3/lib/python3.6/site-packages (from pygithub->getorg)\n",
      "Requirement already up-to-date: deprecated in /Users/redcynthia/anaconda3/lib/python3.6/site-packages (from pygithub->getorg)\n",
      "Requirement already up-to-date: six>=1.7.0 in /Users/redcynthia/anaconda3/lib/python3.6/site-packages (from retrying->getorg)\n",
      "Requirement already up-to-date: idna<3,>=2.5 in /Users/redcynthia/anaconda3/lib/python3.6/site-packages (from requests>=2.14.0->pygithub->getorg)\n",
      "Requirement already up-to-date: urllib3!=1.25.0,!=1.25.1,<1.26,>=1.21.1 in /Users/redcynthia/anaconda3/lib/python3.6/site-packages (from requests>=2.14.0->pygithub->getorg)\n",
      "Requirement already up-to-date: chardet<4,>=3.0.2 in /Users/redcynthia/anaconda3/lib/python3.6/site-packages (from requests>=2.14.0->pygithub->getorg)\n",
      "Requirement already up-to-date: certifi>=2017.4.17 in /Users/redcynthia/anaconda3/lib/python3.6/site-packages (from requests>=2.14.0->pygithub->getorg)\n",
      "Requirement already up-to-date: wrapt<2,>=1.10 in /Users/redcynthia/anaconda3/lib/python3.6/site-packages (from deprecated->pygithub->getorg)\n",
      "\u001b[33mYou are using pip version 9.0.1, however version 20.1.1 is available.\n",
      "You should consider upgrading via the 'pip install --upgrade pip' command.\u001b[0m\n",
      "Iywidgets and ipyleaflet support disabled. You must be in a Jupyter notebook to use this feature.\n",
      "Error raised:\n",
      "No module named 'ipyleaflet'\n",
      "Check that you have enabled ipyleaflet in Jupyter with:\n",
      "    jupyter nbextension enable --py ipyleaflet\n"
     ]
    }
   ],
   "source": [
    "!pip install getorg --upgrade\n",
    "import glob\n",
    "import getorg\n",
    "from geopy import Nominatim"
   ]
  },
  {
   "cell_type": "code",
   "execution_count": 2,
   "metadata": {
    "collapsed": true
   },
   "outputs": [],
   "source": [
    "g = glob.glob(\"*.md\")"
   ]
  },
  {
   "cell_type": "code",
   "execution_count": 5,
   "metadata": {},
   "outputs": [],
   "source": [
    "geocoder = Nominatim(user_agent=\"xu-application\")\n",
    "location_dict = {}\n",
    "location = \"\"\n",
    "permalink = \"\"\n",
    "title = \"\""
   ]
  },
  {
   "cell_type": "code",
   "execution_count": 6,
   "metadata": {},
   "outputs": [
    {
     "name": "stdout",
     "output_type": "stream",
     "text": [
      " \n",
      " None\n",
      " \n",
      " None\n",
      " \n",
      " None\n"
     ]
    }
   ],
   "source": [
    "\n",
    "for file in g:\n",
    "    with open(file, 'r') as f:\n",
    "        lines = f.read()\n",
    "        if lines.find('location: \"') > 1:\n",
    "            loc_start = lines.find('location: \"') + 11\n",
    "            lines_trim = lines[loc_start:]\n",
    "            loc_end = lines_trim.find('\"')\n",
    "            location = lines_trim[:loc_end]\n",
    "                            \n",
    "           \n",
    "        location_dict[location] = geocoder.geocode(location)\n",
    "        print(location, \"\\n\", location_dict[location])\n"
   ]
  },
  {
   "cell_type": "code",
   "execution_count": 7,
   "metadata": {},
   "outputs": [
    {
     "data": {
      "text/plain": [
       "'Written map to ../talkmap/'"
      ]
     },
     "execution_count": 7,
     "metadata": {},
     "output_type": "execute_result"
    }
   ],
   "source": [
    "m = getorg.orgmap.create_map_obj()\n",
    "getorg.orgmap.output_html_cluster_map(location_dict, folder_name=\"../talkmap\", hashed_usernames=False)"
   ]
  },
  {
   "cell_type": "code",
   "execution_count": null,
   "metadata": {
    "collapsed": true
   },
   "outputs": [],
   "source": []
  }
 ],
 "metadata": {
  "anaconda-cloud": {},
  "kernelspec": {
   "display_name": "Python 3",
   "language": "python",
   "name": "python3"
  },
  "language_info": {
   "codemirror_mode": {
    "name": "ipython",
    "version": 3
   },
   "file_extension": ".py",
   "mimetype": "text/x-python",
   "name": "python",
   "nbconvert_exporter": "python",
   "pygments_lexer": "ipython3",
   "version": "3.6.3"
  }
 },
 "nbformat": 4,
 "nbformat_minor": 1
}
